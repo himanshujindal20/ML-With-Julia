{
 "cells": [
  {
   "cell_type": "markdown",
   "id": "78b48826",
   "metadata": {},
   "source": [
    "# Lecture 1\n",
    "With a lot of digressions in between, but you shall find it very interesting."
   ]
  },
  {
   "cell_type": "code",
   "execution_count": null,
   "id": "46a37a4c",
   "metadata": {},
   "outputs": [],
   "source": [
    "println(\"my name is som\")"
   ]
  },
  {
   "cell_type": "markdown",
   "id": "85f7b908",
   "metadata": {},
   "source": [
    "# Using unicode characters\n",
    "You can use Unicode characters, like Greek symbols, Mathematical notations, etc."
   ]
  },
  {
   "cell_type": "code",
   "execution_count": null,
   "id": "89c4ec04",
   "metadata": {},
   "outputs": [],
   "source": [
    "2*π*5"
   ]
  },
  {
   "cell_type": "code",
   "execution_count": null,
   "id": "9648cb48",
   "metadata": {},
   "outputs": [],
   "source": [
    "γ=5;β=3;λ=2;\n",
    "γ+β+λ"
   ]
  },
  {
   "cell_type": "markdown",
   "id": "244027a2",
   "metadata": {},
   "source": [
    "### Not only the names of variables, but also functions."
   ]
  },
  {
   "cell_type": "code",
   "execution_count": null,
   "id": "a7d67408",
   "metadata": {},
   "outputs": [],
   "source": [
    "√(5) # Here √ is a function which calculates the square-root"
   ]
  },
  {
   "cell_type": "code",
   "execution_count": null,
   "id": "4470502f",
   "metadata": {},
   "outputs": [],
   "source": [
    "sqrt"
   ]
  },
  {
   "cell_type": "markdown",
   "id": "b1bbb96a",
   "metadata": {},
   "source": [
    "### Printing"
   ]
  },
  {
   "cell_type": "code",
   "execution_count": null,
   "id": "9e43dfeb",
   "metadata": {},
   "outputs": [],
   "source": [
    "println(\"my\",\" name\",\" is\",\" Som\",\"\\n\",\"Value of γ=$γ\")"
   ]
  },
  {
   "cell_type": "markdown",
   "id": "d3feab9e",
   "metadata": {},
   "source": [
    "## Running Julia scripts\n",
    "Julia files have the extension .jl, so if you want to run a file in the current directory named `test.jl`"
   ]
  },
  {
   "cell_type": "code",
   "execution_count": null,
   "id": "81016e0c",
   "metadata": {},
   "outputs": [],
   "source": [
    "# include(\"test.jl\")"
   ]
  },
  {
   "cell_type": "markdown",
   "id": "1762195d",
   "metadata": {},
   "source": [
    "## Arrays, Matrices and Vectors\n",
    "Exploring the array functions in Julia."
   ]
  },
  {
   "cell_type": "code",
   "execution_count": null,
   "id": "8a08ca97",
   "metadata": {},
   "outputs": [],
   "source": [
    "# Initializing an empty array"
   ]
  },
  {
   "cell_type": "code",
   "execution_count": null,
   "id": "69c15ccf",
   "metadata": {},
   "outputs": [],
   "source": [
    "a = zeros(Int32, 5,4)"
   ]
  },
  {
   "cell_type": "code",
   "execution_count": null,
   "id": "7053a4f7",
   "metadata": {},
   "outputs": [],
   "source": [
    "randn(3,4)"
   ]
  },
  {
   "cell_type": "code",
   "execution_count": null,
   "id": "6a3765e9",
   "metadata": {},
   "outputs": [],
   "source": [
    "vec = [3,4,5]"
   ]
  },
  {
   "cell_type": "code",
   "execution_count": null,
   "id": "e5efb25d",
   "metadata": {},
   "outputs": [],
   "source": [
    "vecvec = [[3,4,5],\n",
    "          [6,7,8]]"
   ]
  },
  {
   "cell_type": "code",
   "execution_count": null,
   "id": "ed6d52fc",
   "metadata": {},
   "outputs": [],
   "source": [
    "mat = [[3,4,5] [6,7,8]]"
   ]
  },
  {
   "cell_type": "code",
   "execution_count": null,
   "id": "1acc4eb6",
   "metadata": {},
   "outputs": [],
   "source": [
    "mat[5]==mat[2,2]"
   ]
  },
  {
   "cell_type": "code",
   "execution_count": null,
   "id": "3d2055f0",
   "metadata": {},
   "outputs": [],
   "source": [
    "arr1 = [1, 2, \"som\", π]"
   ]
  },
  {
   "cell_type": "markdown",
   "id": "ce2b3d96",
   "metadata": {},
   "source": [
    "## Ranges\n",
    "Literally Ranges."
   ]
  },
  {
   "cell_type": "code",
   "execution_count": null,
   "id": "f4696402",
   "metadata": {},
   "outputs": [],
   "source": [
    "r = 5:15\n",
    "typeof(r)"
   ]
  },
  {
   "cell_type": "code",
   "execution_count": null,
   "id": "5b0f2a91",
   "metadata": {},
   "outputs": [],
   "source": [
    "collect(5:5:40)"
   ]
  },
  {
   "cell_type": "code",
   "execution_count": null,
   "id": "9ee17d48",
   "metadata": {},
   "outputs": [],
   "source": [
    "for i in r println(\"number $i\") end"
   ]
  },
  {
   "cell_type": "code",
   "execution_count": null,
   "id": "4031ccf9",
   "metadata": {},
   "outputs": [],
   "source": [
    "sum(5:5:40)"
   ]
  },
  {
   "cell_type": "code",
   "execution_count": null,
   "id": "c38f973f",
   "metadata": {},
   "outputs": [],
   "source": [
    "mapreduce((x)->x^2+2x+1,+,r)"
   ]
  },
  {
   "cell_type": "code",
   "execution_count": null,
   "id": "ef1a8603",
   "metadata": {},
   "outputs": [],
   "source": [
    "s=0\n",
    "for i=r\n",
    "    s+=i^2+2i+1\n",
    "end\n",
    "s"
   ]
  },
  {
   "cell_type": "markdown",
   "id": "15d61707",
   "metadata": {},
   "source": [
    "## Types, Unions\n",
    "Datatypes, sets, and what not we have here in Julia."
   ]
  },
  {
   "cell_type": "code",
   "execution_count": null,
   "id": "f5bab15a",
   "metadata": {},
   "outputs": [],
   "source": [
    "\"som\" ∈ arr1 "
   ]
  },
  {
   "cell_type": "code",
   "execution_count": null,
   "id": "05d6d33a",
   "metadata": {},
   "outputs": [],
   "source": [
    "5 ∈ arr1"
   ]
  },
  {
   "cell_type": "code",
   "execution_count": null,
   "id": "20e71314",
   "metadata": {},
   "outputs": [],
   "source": [
    "3.000000000000001 ≈ 3 # \\approx[tab] -> ≈"
   ]
  },
  {
   "cell_type": "code",
   "execution_count": null,
   "id": "b22bb9f1",
   "metadata": {},
   "outputs": [],
   "source": [
    "π ≉ 3 # \\napprox[tab] -> ≉"
   ]
  },
  {
   "cell_type": "code",
   "execution_count": null,
   "id": "df54389a",
   "metadata": {},
   "outputs": [],
   "source": [
    "Float16 <: Number"
   ]
  },
  {
   "cell_type": "code",
   "execution_count": null,
   "id": "11b6837a",
   "metadata": {},
   "outputs": [],
   "source": [
    "Integer <: Float64 <: Real"
   ]
  },
  {
   "cell_type": "code",
   "execution_count": null,
   "id": "bce17e0e",
   "metadata": {},
   "outputs": [],
   "source": [
    "Number <: Real"
   ]
  },
  {
   "cell_type": "code",
   "execution_count": null,
   "id": "4aa41799",
   "metadata": {},
   "outputs": [],
   "source": [
    "Real <: Number <: Any"
   ]
  },
  {
   "cell_type": "code",
   "execution_count": null,
   "id": "b18af66d",
   "metadata": {},
   "outputs": [],
   "source": [
    "Real <: Complex"
   ]
  },
  {
   "cell_type": "code",
   "execution_count": null,
   "id": "2117c99b",
   "metadata": {},
   "outputs": [],
   "source": [
    "<:(Real,Complex)"
   ]
  },
  {
   "cell_type": "code",
   "execution_count": null,
   "id": "6600d856",
   "metadata": {},
   "outputs": [],
   "source": [
    "+(2,3,5)"
   ]
  },
  {
   "cell_type": "code",
   "execution_count": null,
   "id": "0ed67832",
   "metadata": {},
   "outputs": [],
   "source": [
    "typeof(5+3.6) <: Float64"
   ]
  },
  {
   "cell_type": "code",
   "execution_count": null,
   "id": "ba6dd4d8",
   "metadata": {},
   "outputs": [],
   "source": [
    "(5+3)::Int"
   ]
  },
  {
   "cell_type": "code",
   "execution_count": null,
   "id": "e39ef7d4",
   "metadata": {},
   "outputs": [],
   "source": [
    "(5+3)::Float32"
   ]
  },
  {
   "cell_type": "code",
   "execution_count": null,
   "id": "7f065eb5",
   "metadata": {},
   "outputs": [],
   "source": [
    "2//3+4//9"
   ]
  },
  {
   "cell_type": "code",
   "execution_count": null,
   "id": "c3214a31",
   "metadata": {},
   "outputs": [],
   "source": [
    "z=3+4im"
   ]
  },
  {
   "cell_type": "code",
   "execution_count": null,
   "id": "370de852",
   "metadata": {},
   "outputs": [],
   "source": [
    "typeof(Real)"
   ]
  },
  {
   "cell_type": "code",
   "execution_count": null,
   "id": "81fcd081",
   "metadata": {},
   "outputs": [],
   "source": [
    "23 ∈ [Integer, Real, Complex, Float64, Any, 23]"
   ]
  },
  {
   "cell_type": "code",
   "execution_count": null,
   "id": "f0d34a90",
   "metadata": {},
   "outputs": [],
   "source": [
    "d=1\n",
    "for i in 1:10\n",
    "    d/=i\n",
    "end\n",
    "d"
   ]
  },
  {
   "cell_type": "code",
   "execution_count": null,
   "id": "fcf26ec6",
   "metadata": {},
   "outputs": [],
   "source": [
    "typeof(3+4im) ∈ [3+4im,5,6,7,Complex{Int64}]"
   ]
  },
  {
   "cell_type": "code",
   "execution_count": null,
   "id": "a4891dfd",
   "metadata": {},
   "outputs": [],
   "source": [
    "typeof(typeof(1))"
   ]
  },
  {
   "cell_type": "code",
   "execution_count": null,
   "id": "b9ecd8fe",
   "metadata": {},
   "outputs": [],
   "source": [
    "supertype(Complex)"
   ]
  },
  {
   "cell_type": "code",
   "execution_count": null,
   "id": "eba5eb6f",
   "metadata": {},
   "outputs": [],
   "source": [
    "numeric=Union{Integer,Float64,String}"
   ]
  },
  {
   "cell_type": "code",
   "execution_count": null,
   "id": "5e476a13",
   "metadata": {},
   "outputs": [],
   "source": [
    "typeof(5.4) <: numeric"
   ]
  },
  {
   "cell_type": "code",
   "execution_count": null,
   "id": "0b47f1b1",
   "metadata": {},
   "outputs": [],
   "source": [
    "typeof(\"som\") <: numeric"
   ]
  },
  {
   "cell_type": "code",
   "execution_count": null,
   "id": "c8ad8a97",
   "metadata": {},
   "outputs": [],
   "source": [
    "supertype(numeric)"
   ]
  },
  {
   "cell_type": "code",
   "execution_count": null,
   "id": "652388fb",
   "metadata": {},
   "outputs": [],
   "source": [
    "# custom datatype\n",
    "struct dog\n",
    "    name::String\n",
    "    age::Int8\n",
    "    breed::String\n",
    "end"
   ]
  },
  {
   "cell_type": "code",
   "execution_count": null,
   "id": "56160d6b",
   "metadata": {},
   "outputs": [],
   "source": [
    "pet1 = dog(\"doggy\",6,\"labradoodle\")"
   ]
  },
  {
   "cell_type": "code",
   "execution_count": null,
   "id": "ebe4a720",
   "metadata": {},
   "outputs": [],
   "source": [
    "typeof(pet1) "
   ]
  },
  {
   "cell_type": "code",
   "execution_count": null,
   "id": "52caab0c",
   "metadata": {},
   "outputs": [],
   "source": [
    "println(pet1.name,\"\\n\",pet1.age,\"\\n\",pet1.breed)"
   ]
  },
  {
   "cell_type": "code",
   "execution_count": null,
   "id": "a8181b41",
   "metadata": {},
   "outputs": [],
   "source": [
    "pet2 = dog(\"oggy\",4,\"pug\")"
   ]
  },
  {
   "cell_type": "markdown",
   "id": "fed93dfe",
   "metadata": {},
   "source": [
    "## Tuples, Dicts, Sets"
   ]
  },
  {
   "cell_type": "code",
   "execution_count": null,
   "id": "93acffa8",
   "metadata": {},
   "outputs": [],
   "source": [
    "typeof(10:-2:0)"
   ]
  },
  {
   "cell_type": "code",
   "execution_count": null,
   "id": "5ac8db15",
   "metadata": {},
   "outputs": [],
   "source": [
    "t=tuple(10:-2:0...,1:4:8...)"
   ]
  },
  {
   "cell_type": "code",
   "execution_count": null,
   "id": "0ea094b0",
   "metadata": {},
   "outputs": [],
   "source": [
    "t[6]=55"
   ]
  },
  {
   "cell_type": "code",
   "execution_count": null,
   "id": "672684f0",
   "metadata": {},
   "outputs": [],
   "source": [
    "app1(x1...)=sum(x1)"
   ]
  },
  {
   "cell_type": "code",
   "execution_count": null,
   "id": "e24bc0d0",
   "metadata": {},
   "outputs": [],
   "source": [
    "app1(7,10)"
   ]
  },
  {
   "cell_type": "code",
   "execution_count": null,
   "id": "3943fa23",
   "metadata": {},
   "outputs": [],
   "source": [
    "d = Dict(1=>\"som\",2=>\"gopalan\",\"somvt\"=>\"som1\")"
   ]
  },
  {
   "cell_type": "code",
   "execution_count": null,
   "id": "020548b3",
   "metadata": {},
   "outputs": [],
   "source": [
    "s = Set([\"som\",\"som\",\"Som\",\"aarya\",\"Aarya\",\"aarya\"]) # no order, uniqueness of elements"
   ]
  },
  {
   "cell_type": "markdown",
   "id": "58ac5f9a",
   "metadata": {},
   "source": [
    "## Functions and loops\n",
    "Interesting part."
   ]
  },
  {
   "cell_type": "code",
   "execution_count": null,
   "id": "1aa5d833",
   "metadata": {},
   "outputs": [],
   "source": [
    "function first()\n",
    "    println(\"hello\")\n",
    "    return Nothing\n",
    "end"
   ]
  },
  {
   "cell_type": "code",
   "execution_count": null,
   "id": "915edb25",
   "metadata": {},
   "outputs": [],
   "source": [
    "typeof(first())"
   ]
  },
  {
   "cell_type": "code",
   "execution_count": null,
   "id": "5556c564",
   "metadata": {},
   "outputs": [],
   "source": [
    "function Σ(args...)\n",
    "    k=0\n",
    "    for i=1:length(args)\n",
    "        k+=args[i]\n",
    "    end\n",
    "    return k\n",
    "end"
   ]
  },
  {
   "cell_type": "code",
   "execution_count": null,
   "id": "9e63b601",
   "metadata": {},
   "outputs": [],
   "source": [
    "Σ(3,4,9,2,8.5)"
   ]
  },
  {
   "cell_type": "code",
   "execution_count": null,
   "id": "e9012c63",
   "metadata": {},
   "outputs": [],
   "source": [
    "pet1+pet2"
   ]
  },
  {
   "cell_type": "code",
   "execution_count": null,
   "id": "01726d47",
   "metadata": {},
   "outputs": [],
   "source": [
    "import Base:+,*"
   ]
  },
  {
   "cell_type": "code",
   "execution_count": null,
   "id": "c6597887",
   "metadata": {},
   "outputs": [],
   "source": [
    "function +(p1::dog,p2::dog)\n",
    "    return p1.age+p2.age\n",
    "end"
   ]
  },
  {
   "cell_type": "code",
   "execution_count": null,
   "id": "43033120",
   "metadata": {},
   "outputs": [],
   "source": [
    "pet1+pet2 ≠ +(pet1,pet2)"
   ]
  },
  {
   "cell_type": "code",
   "execution_count": null,
   "id": "cc11aa41",
   "metadata": {},
   "outputs": [],
   "source": [
    "methods(+) # Multiple dispatching"
   ]
  },
  {
   "cell_type": "code",
   "execution_count": null,
   "id": "3ab8319b",
   "metadata": {},
   "outputs": [],
   "source": [
    "methods(methods)"
   ]
  },
  {
   "cell_type": "code",
   "execution_count": null,
   "id": "1799d99c",
   "metadata": {},
   "outputs": [],
   "source": [
    "f(x,y)=32x+20y"
   ]
  },
  {
   "cell_type": "code",
   "execution_count": null,
   "id": "898f875d",
   "metadata": {},
   "outputs": [],
   "source": [
    "f(5,4)"
   ]
  },
  {
   "cell_type": "code",
   "execution_count": null,
   "id": "53f37a6c",
   "metadata": {},
   "outputs": [],
   "source": [
    "f(pet1,pet2)"
   ]
  },
  {
   "cell_type": "code",
   "execution_count": null,
   "id": "8fdbc37f",
   "metadata": {},
   "outputs": [],
   "source": [
    "*(x::Int64,y::dog)=*(x,y.age)"
   ]
  },
  {
   "cell_type": "code",
   "execution_count": null,
   "id": "046d0536",
   "metadata": {},
   "outputs": [],
   "source": [
    "f(x::dog,y::dog) = f(x.age,y.age)"
   ]
  },
  {
   "cell_type": "code",
   "execution_count": null,
   "id": "d52984c1",
   "metadata": {},
   "outputs": [],
   "source": [
    "f(pet1,pet2)"
   ]
  },
  {
   "cell_type": "code",
   "execution_count": null,
   "id": "47bf662d",
   "metadata": {},
   "outputs": [],
   "source": [
    "@assert 1==1"
   ]
  },
  {
   "cell_type": "code",
   "execution_count": null,
   "id": "1988c4a3",
   "metadata": {},
   "outputs": [],
   "source": [
    "8::Integer"
   ]
  },
  {
   "cell_type": "code",
   "execution_count": null,
   "id": "39377862",
   "metadata": {},
   "outputs": [],
   "source": []
  }
 ],
 "metadata": {
  "kernelspec": {
   "display_name": "Julia 1.6.0",
   "language": "julia",
   "name": "julia-1.6"
  },
  "language_info": {
   "file_extension": ".jl",
   "mimetype": "application/julia",
   "name": "julia",
   "version": "1.6.0"
  }
 },
 "nbformat": 4,
 "nbformat_minor": 5
}
